{
 "cells": [
  {
   "cell_type": "code",
   "execution_count": 1,
   "metadata": {},
   "outputs": [
    {
     "name": "stderr",
     "output_type": "stream",
     "text": [
      "Using TensorFlow backend.\n"
     ]
    }
   ],
   "source": []
  },
  {
   "cell_type": "code",
   "execution_count": 2,
   "metadata": {},
   "outputs": [
    {
     "data": {
      "text/plain": [
       "(28, 28, 60000)"
      ]
     },
     "execution_count": 2,
     "metadata": {},
     "output_type": "execute_result"
    }
   ],
   "source": [
    "from keras.datasets import mnist\n",
    "digits = mnist.load_data()[0][0]\n",
    "import scipy.ndimage\n",
    "digidt2 = scipy.ndimage.zoom(digits, (1, 3, 3), order=2)"
   ]
  },
  {
   "cell_type": "code",
   "execution_count": 55,
   "metadata": {},
   "outputs": [],
   "source": [
    "import numpy as np\n",
    "count = 1000\n",
    "patch_size = 128\n",
    "out = np.zeros((count, patch_size, patch_size))\n",
    "smol = digits[np.random.randint(0, len(digits), count)]\n",
    "out[:, :28, :28] = smol / 2\n",
    "out = np.roll(out, np.random.randint(0, patch_size), 1)\n",
    "out = np.roll(out, np.random.randint(0, patch_size), 2)\n",
    "smol = digits[np.random.randint(0, len(digits), count)]\n",
    "out[:, :28, :28] = smol / 2\n",
    "out = np.roll(out, np.random.randint(0, patch_size), 1)\n",
    "out = np.roll(out, np.random.randint(0, patch_size), 2)\n",
    "medium = digidt2[np.random.randint(0, len(digits), count)]\n",
    "out[:, :84, :84] += medium / 2\n",
    "out = np.roll(out, np.random.randint(0, patch_size), 1)\n",
    "out = np.roll(out, np.random.randint(0, patch_size), 2)\n",
    "medium = digidt2[np.random.randint(0, len(digits), count)]\n",
    "out[:, :84, :84] += medium / 2\n",
    "out = np.roll(out, np.random.randint(0, patch_size), 1)\n",
    "out = np.roll(out, np.random.randint(0, patch_size), 2)"
   ]
  },
  {
   "cell_type": "code",
   "execution_count": 56,
   "metadata": {},
   "outputs": [
    {
     "data": {
      "image/png": "[encoded data removed]",
      "text/plain": [
       "<matplotlib.figure.Figure at 0x2e8164986a0>"
      ]
     },
     "metadata": {},
     "output_type": "display_data"
    }
   ],
   "source": [
    "plt.imshow(out[320] > 5)\n",
    "plt.show()"
   ]
  },
  {
   "cell_type": "code",
   "execution_count": null,
   "metadata": {
    "collapsed": true
   },
   "outputs": [],
   "source": []
  }
 ],
 "metadata": {
  "kernelspec": {
   "display_name": "Python 3",
   "language": "python",
   "name": "python3"
  },
  "language_info": {
   "codemirror_mode": {
    "name": "ipython",
    "version": 3
   },
   "file_extension": ".py",
   "mimetype": "text/x-python",
   "name": "python",
   "nbconvert_exporter": "python",
   "pygments_lexer": "ipython3",
   "version": "3.5.3"
  }
 },
 "nbformat": 4,
 "nbformat_minor": 2
}
